{
 "metadata": {
  "name": "",
  "signature": "sha256:b861d13ab7919142bdf323f50cf293e7e0aef7da4eeeb2de191e22ca9d6670ad"
 },
 "nbformat": 3,
 "nbformat_minor": 0,
 "worksheets": [
  {
   "cells": [
    {
     "cell_type": "markdown",
     "metadata": {},
     "source": [
      "<h1 align = 'center'> Neural Networks Demystified </h1>\n",
      "<h2 align = 'center'> Part 2: Forward Propagation </h2>\n",
      "\n",
      "\n",
      "<h4 align = 'center' > @stephencwelch </h4>"
     ]
    },
    {
     "cell_type": "code",
     "collapsed": false,
     "input": [
      "from IPython.display import YouTubeVideo\n",
      "YouTubeVideo('UJwK6jAStmg')"
     ],
     "language": "python",
     "metadata": {},
     "outputs": [
      {
       "html": [
        "\n",
        "        <iframe\n",
        "            width=\"400\"\n",
        "            height=300\"\n",
        "            src=\"https://www.youtube.com/embed/UJwK6jAStmg\"\n",
        "            frameborder=\"0\"\n",
        "            allowfullscreen\n",
        "        ></iframe>\n",
        "        "
       ],
       "metadata": {},
       "output_type": "pyout",
       "prompt_number": 1,
       "text": [
        "<IPython.lib.display.YouTubeVideo at 0x105076450>"
       ]
      }
     ],
     "prompt_number": 1
    },
    {
     "cell_type": "markdown",
     "metadata": {},
     "source": [
      "<h3 align = 'center'> Variables </h3>\n",
      "\n",
      "|Code Symbol | Math Symbol | Definition | Dimensions\n",
      "| :-: | :-: | :-: | :-: |\n",
      "|X|$$X$$|Input Data, each row in an example| (numExamples, inputLayerSize)|\n",
      "|y |$$y$$|target data|(numExamples, outputLayerSize)|\n",
      "|W1 | $$W^{(1)}$$ | Layer 1 weights | (inputLayerSize, hiddenLayerSize) |\n",
      "|W2 | $$W^{(2)}$$ | Layer 2 weights | (hiddenLayerSize, outputLayerSize) |\n",
      "|z2 | $$z^{(2)}$$ | Layer 2 activation | (numExamples, hiddenLayerSize) |\n",
      "|a2 | $$a^{(2)}$$ | Layer 2 activity | (numExamples, hiddenLayerSize) |\n",
      "|z3 | $$z^{(3)}$$ | Layer 3 activation | (numExamples, outputLayerSize) |"
     ]
    },
    {
     "cell_type": "markdown",
     "metadata": {},
     "source": [
      "Last time, we setup our neural network on paper. This time, we\u2019ll implement it in the programming language python. We\u2019ll build our network as a python class and our init method will take care of instantiating important constants and variables. We\u2019ll make these values accessible to the whole class by placing a self dot in front of each variable name."
     ]
    },
    {
     "cell_type": "markdown",
     "metadata": {},
     "source": [
      "Our network has 2 inputs, 3 hidden units, and 1 output. These are examples of hyperparameters. Hyperparameters are constants that establish the structure and behavior of a neural network, but are not updated as we train the network. Our learning algorithm is not capable of, for example, deciding that it needs another hidden unit, this is something that WE must decide on before training. What a neural network does learn are parameters, specifically the weights on the synapses."
     ]
    },
    {
     "cell_type": "markdown",
     "metadata": {},
     "source": [
      "We\u2019ll take care of moving data through our network in a method called forward. Rather than pass inputs through the network one at a time, we\u2019re going to use matrices to pass through multiple inputs at once. Doing this allows for big computational speedups, especially when using tools like MATLAB or Numpy. Our input data matrix, X, is of dimension 3 by 2, because we have 3, 2-dimensional examples. Our corresponding output data, y, is of dimension 3 by 1."
     ]
    },
    {
     "cell_type": "code",
     "collapsed": false,
     "input": [
      "#Import code from last time\n",
      "from partOne import *"
     ],
     "language": "python",
     "metadata": {},
     "outputs": [],
     "prompt_number": 9
    },
    {
     "cell_type": "code",
     "collapsed": false,
     "input": [
      "print X.shape, y.shape"
     ],
     "language": "python",
     "metadata": {},
     "outputs": [
      {
       "output_type": "stream",
       "stream": "stdout",
       "text": [
        "(3, 2) (3, 1)\n"
       ]
      }
     ],
     "prompt_number": 10
    },
    {
     "cell_type": "code",
     "collapsed": false,
     "input": [
      "class Neural_Network(object):\n",
      "    def __init__(self):        \n",
      "        #Define Hyperparameters\n",
      "        self.inputLayerSize = 2\n",
      "        self.outputLayerSize = 1\n",
      "        self.hiddenLayerSize = 3\n",
      "        \n",
      "    def forward(self, X):\n",
      "        #Propagate inputs though network"
     ],
     "language": "python",
     "metadata": {},
     "outputs": [],
     "prompt_number": 11
    },
    {
     "cell_type": "markdown",
     "metadata": {},
     "source": [
      "Each input value, or element in matrix X, needs to be multiplied by a corresponding weight and then added together with all the other results for each neuron. This is a complex operation, but if we take the three outputs we're looking for as a single row of a matrix, and place all our individual weights into a matrix of weights, we can create the exact behavior we need by multiplying our input data matrix by our weight matrix. Using matrix multiplication allows us to pass mulitple inputs through at once by simply adding rows to the matrix X. From here on out, we'll refer to these matrics as X, W one, and z two, where z two the activity of our second layer. Notice that each entry in z is a sum of weighted inputs to each hidden neuron. Z is of size 3 by 3, one row for each example, and one column for each hidden unit. "
     ]
    },
    {
     "cell_type": "markdown",
     "metadata": {},
     "source": [
      "We now have our first official formula, $z^{(2)} = XW^{(1)}$. Matrix notation is realy nice here, becuase it allows us to express the complex underlying process in a single line!"
     ]
    },
    {
     "cell_type": "markdown",
     "metadata": {},
     "source": [
      "$$\n",
      "z^{(2)} = XW^{(1)} \\tag{1}\\\\\n",
      "$$\n"
     ]
    },
    {
     "cell_type": "markdown",
     "metadata": {},
     "source": [
      "Now that we have the activities for our second layer, z two, we need to apply the activation function. We'll independently apply the function to each entry in matrix z using a python method for this called sigmoid, because we\u2019re using a sigmoid as our activation function. Using numpy is really nice here, because we can pass in a scalar, vector, or matrix, Numpy will apply the activation function element-wise, and return a result of the same dimension as it was given."
     ]
    },
    {
     "cell_type": "code",
     "collapsed": false,
     "input": [
      "def sigmoid(z):\n",
      "    #Apply sigmoid activation function to scalar, vector, or matrix\n",
      "    return 1/(1+np.exp(-z))"
     ],
     "language": "python",
     "metadata": {},
     "outputs": [],
     "prompt_number": 12
    },
    {
     "cell_type": "code",
     "collapsed": false,
     "input": [
      "testInput = np.arange(-6,6,0.01)\n",
      "plot(testInput, sigmoid(testInput), linewidth= 2)\n",
      "grid(1)"
     ],
     "language": "python",
     "metadata": {},
     "outputs": [
      {
       "metadata": {},
       "output_type": "display_data",
       "png": "[encoded data removed]",
       "text": [
        "<matplotlib.figure.Figure at 0x1054ef7d0>"
       ]
      }
     ],
     "prompt_number": 13
    },
    {
     "cell_type": "code",
     "collapsed": false,
     "input": [
      "sigmoid(1)"
     ],
     "language": "python",
     "metadata": {},
     "outputs": [
      {
       "metadata": {},
       "output_type": "pyout",
       "prompt_number": 14,
       "text": [
        "0.7310585786300049"
       ]
      }
     ],
     "prompt_number": 14
    },
    {
     "cell_type": "code",
     "collapsed": false,
     "input": [
      "sigmoid(np.array([-1,0,1]))"
     ],
     "language": "python",
     "metadata": {},
     "outputs": [
      {
       "metadata": {},
       "output_type": "pyout",
       "prompt_number": 15,
       "text": [
        "array([ 0.26894142,  0.5       ,  0.73105858])"
       ]
      }
     ],
     "prompt_number": 15
    },
    {
     "cell_type": "code",
     "collapsed": false,
     "input": [
      "sigmoid(np.random.randn(3,3))"
     ],
     "language": "python",
     "metadata": {},
     "outputs": [
      {
       "metadata": {},
       "output_type": "pyout",
       "prompt_number": 16,
       "text": [
        "array([[ 0.61506645,  0.14501342,  0.36935649],\n",
        "       [ 0.21800138,  0.66720161,  0.23168597],\n",
        "       [ 0.6553628 ,  0.70860131,  0.80890151]])"
       ]
      }
     ],
     "prompt_number": 16
    },
    {
     "cell_type": "markdown",
     "metadata": {},
     "source": [
      " We now have our second formula for forward propogation, using f to denote our activation function, we can write that a two, our second layer activity, is equal to f of z two. a two will be a matrix of the same size as z two, 3 by 3."
     ]
    },
    {
     "cell_type": "markdown",
     "metadata": {},
     "source": [
      "$$\n",
      "a^{(2)} = f(z^{(2)}) \\tag{2}\\\\\n",
      "$$"
     ]
    },
    {
     "cell_type": "markdown",
     "metadata": {},
     "source": [
      "To finish forward propogation we need to propogate a two all the way to the output, yhat. We've already done the heavy lifting in the previous layer, so all we have to do now is multiply a two by our senond layer wieghts W2 and apply one more activation funcion. W2 will be of size 3x1, one weight for each synapse. Multiplying a2, a 3 by 3, by W2, a 3 by 1 results in a 3 by 1 matrix z three, the activity or our third layer. z3 has three activity values, one for each example. Last but not least, we'll apply our activation function to z three yeilding our official estimate of your test score, y Hat.  "
     ]
    },
    {
     "cell_type": "markdown",
     "metadata": {},
     "source": [
      "$$\n",
      "z^{(3)} = a^{(2)}W^{(2)} \\tag{3}\\\\\n",
      "$$\n",
      "$$\n",
      "\\hat{y} = f(z^{(3)}) \\tag{4}\\\\\n",
      "$$"
     ]
    },
    {
     "cell_type": "markdown",
     "metadata": {},
     "source": [
      "We need to implement our forward propogation formulas in python. First we'll initialize our weight matrices in our init method. For starting values, we'll use random numbers. "
     ]
    },
    {
     "cell_type": "markdown",
     "metadata": {},
     "source": [
      "We'll implement forward propogation in our forward method, using numpy's built in dot method for matrix multiplication and our own sigmoid method. "
     ]
    },
    {
     "cell_type": "code",
     "collapsed": false,
     "input": [
      "class Neural_Network(object):\n",
      "    def __init__(self):        \n",
      "        #Define Hyperparameters\n",
      "        self.inputLayerSize = 2\n",
      "        self.outputLayerSize = 1\n",
      "        self.hiddenLayerSize = 3\n",
      "        \n",
      "        #Weights (parameters)\n",
      "        self.W1 = np.random.randn(self.inputLayerSize, self.hiddenLayerSize)\n",
      "        self.W2 = np.random.randn(self.hiddenLayerSize, self.outputLayerSize)\n",
      "        \n",
      "    def forward(self, X):\n",
      "        #Propagate inputs though network\n",
      "        self.z2 = np.dot(X, self.W1)\n",
      "        self.a2 = self.sigmoid(self.z2)\n",
      "        self.z3 = np.dot(self.a2, self.W2)\n",
      "        yHat = self.sigmoid(self.z3) \n",
      "        return yHat\n",
      "        \n",
      "    def sigmoid(self, z):\n",
      "        #Apply sigmoid activation function to scalar, vector, or matrix\n",
      "        return 1/(1+np.exp(-z))"
     ],
     "language": "python",
     "metadata": {},
     "outputs": []
    },
    {
     "cell_type": "markdown",
     "metadata": {},
     "source": [
      "And there you have it, a python class capable of estimating your test score given how many hours you sleep and how many hours you study. We can pass in our input data and get real outputs. Now, you may be noticing that our estimates are quite terrible. That's because we have not yet trained our network, that's what we'll work on next time."
     ]
    }
   ],
   "metadata": {}
  }
 ]
}