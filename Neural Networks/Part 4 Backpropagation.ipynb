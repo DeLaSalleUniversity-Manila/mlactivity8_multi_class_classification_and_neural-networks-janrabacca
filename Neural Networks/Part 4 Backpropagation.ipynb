{
 "metadata": {
  "name": "",
  "signature": "sha256:c4c798993b50cd06b372cb5deab773c74e4cce78c34c57443d22efe7e9773294"
 },
 "nbformat": 3,
 "nbformat_minor": 0,
 "worksheets": [
  {
   "cells": [
    {
     "cell_type": "markdown",
     "metadata": {},
     "source": [
      "<h1 align = 'center'> Neural Networks Demystified </h1>\n",
      "<h2 align = 'center'> Part 4: Backpropagation </h2>\n",
      "\n",
      "\n",
      "<h4 align = 'center' > @stephencwelch </h4>"
     ]
    },
    {
     "cell_type": "code",
     "collapsed": false,
     "input": [
      "from IPython.display import YouTubeVideo\n",
      "YouTubeVideo('GlcnxUlrtek')"
     ],
     "language": "python",
     "metadata": {},
     "outputs": [
      {
       "html": [
        "\n",
        "        <iframe\n",
        "            width=\"400\"\n",
        "            height=300\"\n",
        "            src=\"https://www.youtube.com/embed/GlcnxUlrtek\"\n",
        "            frameborder=\"0\"\n",
        "            allowfullscreen\n",
        "        ></iframe>\n",
        "        "
       ],
       "metadata": {},
       "output_type": "pyout",
       "prompt_number": 1,
       "text": [
        "<IPython.lib.display.YouTubeVideo at 0x10361f450>"
       ]
      }
     ],
     "prompt_number": 1
    },
    {
     "cell_type": "markdown",
     "metadata": {},
     "source": [
      "<h3 align = 'center'> Variables </h3>\n",
      "\n",
      "|Code Symbol | Math Symbol | Definition | Dimensions\n",
      "| :-: | :-: | :-: | :-: |\n",
      "|X|$$X$$|Input Data, each row in an example| (numExamples, inputLayerSize)|\n",
      "|y |$$y$$|target data|(numExamples, outputLayerSize)|\n",
      "|W1 | $$W^{(1)}$$ | Layer 1 weights | (inputLayerSize, hiddenLayerSize) |\n",
      "|W2 | $$W^{(2)}$$ | Layer 2 weights | (hiddenLayerSize, outputLayerSize) |\n",
      "|z2 | $$z^{(2)}$$ | Layer 2 activation | (numExamples, hiddenLayerSize) |\n",
      "|a2 | $$a^{(2)}$$ | Layer 2 activity | (numExamples, hiddenLayerSize) |\n",
      "|z3 | $$z^{(3)}$$ | Layer 3 activation | (numExamples, outputLayerSize) |\n",
      "|J | $$J$$ | Cost | (1, outputLayerSize) |\n",
      "|dJdz3 | $$\\frac{\\partial J}{\\partial z^{(3)} } = \\delta^{(3)}$$ | Partial derivative of cost with respect to $z^{(3)}$ | (numExamples,outputLayerSize)|\n",
      "|dJdW2|$$\\frac{\\partial J}{\\partial W^{(2)}}$$|Partial derivative of cost with respect to $W^{(2)}$|(hiddenLayerSize, outputLayerSize)|\n",
      "|dz3dz2|$$\\frac{\\partial z^{(3)}}{\\partial z^{(2)}}$$|Partial derivative of $z^{(3)}$ with respect to $z^{(2)}$|(numExamples, hiddenLayerSize)|\n",
      "|dJdW1|$$\\frac{\\partial J}{\\partial W^{(1)}}$$|Partial derivative of cost with respect to $W^{(1)}$|(inputLayerSize, hiddenLayerSize)|\n",
      "|delta2|$$\\delta^{(2)}$$|Backpropagating Error 2|(numExamples,hiddenLayerSize)|\n",
      "|delta3|$$\\delta^{(3)}$$|Backpropagating Error 1|(numExamples,outputLayerSize)|"
     ]
    },
    {
     "cell_type": "markdown",
     "metadata": {},
     "source": [
      "Last time, we decided to use gradient descent to train our Neural Network, so it could make better predictions of your score on a test based on how many hours you slept, and how many hours you studied the night before. To perform gradient descent, we need an equation and some code for our gradient, dJ/dW.  "
     ]
    },
    {
     "cell_type": "markdown",
     "metadata": {},
     "source": [
      "Our weights, W, are spread across two matrices, W1 and W2. We\u2019ll separate our dJ/dW computation in the same way, by computing dJdW1 and dJdW2 independently. We should have just as many gradient values as weight values, so when we\u2019re done, our matrices dJdW1 and dJdW2 will be the same size as W1 and W2."
     ]
    },
    {
     "cell_type": "markdown",
     "metadata": {},
     "source": [
      "$$\n",
      "\\frac{\\partial J}{\\partial W^{(2)}} = \\frac{\\partial \\sum \\frac{1}{2}(y-\\hat{y})^2}{\\partial W^{(2)}}\n",
      "$$"
     ]
    },
    {
     "cell_type": "markdown",
     "metadata": {},
     "source": [
      "Let\u2019s work on dJdW2 first. The sum in our cost function adds the error from each example to create our overall cost. We\u2019ll take advantage of the sum rule in differentiation, which says that the derivative of the sums equals the sum of the derivatives. We can move our sigma outside and just worry about the derivative of the inside expression first. "
     ]
    },
    {
     "cell_type": "markdown",
     "metadata": {},
     "source": [
      "$$\n",
      "\\frac{\\partial J}{\\partial W^{(2)}} = \\sum \\frac{\\partial \\frac{1}{2}(y-\\hat{y})^2}{\\partial W^{(2)}}\n",
      "$$"
     ]
    },
    {
     "cell_type": "markdown",
     "metadata": {},
     "source": [
      "To keep things simple, we\u2019ll temporarily forget about our summation. Once we\u2019ve computed dJdW for a single example, we\u2019ll add all our individual derivative terms together. "
     ]
    },
    {
     "cell_type": "markdown",
     "metadata": {},
     "source": [
      "We can now evaluate our derivative. The power rule tells us to bring down our exponent, 2, and multiply. To finish our derivative, we\u2019ll need to apply the chain rule. "
     ]
    },
    {
     "cell_type": "markdown",
     "metadata": {},
     "source": [
      "The chain rule tells us how to take the derivative of a function inside of a function, and generally says we take the derivative of the outside function and then multiply it by the derivative of the inside function. "
     ]
    },
    {
     "cell_type": "markdown",
     "metadata": {},
     "source": [
      "One way to express the chain rule is as the product of derivatives, this will come in very handy as we progress through backpropagation. In fact, a better name for backpropagation might be: don\u2019t stop doing the chain rule. ever. "
     ]
    },
    {
     "cell_type": "markdown",
     "metadata": {},
     "source": [
      "We\u2019ve taken the derivative of the outside of our cost function - now we need to multiply it by the derivative of the inside."
     ]
    },
    {
     "cell_type": "markdown",
     "metadata": {},
     "source": [
      "Y is just our test scores, which won\u2019t change, so the derivative of y, a constant, with respect to W two is 0! yHat, on the other hand, does change with respect to W two, so we\u2019ll apply the chain rule and multiply our results by minus dYhat/dW2. "
     ]
    },
    {
     "cell_type": "markdown",
     "metadata": {},
     "source": [
      "$$\n",
      "\\frac{\\partial J}{\\partial W^{(2)}} = -(y-\\hat{y}) \\frac{\\partial \\hat{y}}{\\partial W^{(2)}}\n",
      "$$"
     ]
    },
    {
     "cell_type": "markdown",
     "metadata": {},
     "source": [
      "We now need to think about the derivative of yHat with respect to W2. Equation 4 tells us that yHat is our activation function of z3, so we it will be helpful to apply the chain rule again to break dyHat/dW2 into dyHat/dz3 times dz3/dW2. "
     ]
    },
    {
     "cell_type": "markdown",
     "metadata": {},
     "source": [
      "$$\n",
      "\\frac{\\partial J}{\\partial W^{(2)}} = \n",
      "-(y-\\hat{y})\n",
      "\\frac{\\partial \\hat{y}}{\\partial z^{(3)}}  \n",
      "\\frac{\\partial z^{(3)}}{\\partial W^{(2)}}\n",
      "$$"
     ]
    },
    {
     "cell_type": "markdown",
     "metadata": {},
     "source": [
      "To find the rate of change of yHat with respect to z3, we need to differentiate our sigmoid activation function with respect to z. "
     ]
    },
    {
     "cell_type": "markdown",
     "metadata": {},
     "source": [
      "$$\n",
      "f(z) = \\frac{1}{1+e^{-z}}\n",
      "$$"
     ]
    },
    {
     "cell_type": "markdown",
     "metadata": {},
     "source": [
      "$$\n",
      "f^\\prime(z) = \\frac{e^{-z}}{(1+e^{-z})^2}\n",
      "$$"
     ]
    },
    {
     "cell_type": "markdown",
     "metadata": {},
     "source": [
      "Now is a good time to add a new python method for the derivative of our sigmoid function, sigmoid Prime. Our derivative should be the largest where our sigmoid function is the steepest, at the value z equals zero."
     ]
    },
    {
     "cell_type": "code",
     "collapsed": false,
     "input": [
      "#Import code from last time\n",
      "from partTwo import *"
     ],
     "language": "python",
     "metadata": {},
     "outputs": [],
     "prompt_number": 2
    },
    {
     "cell_type": "code",
     "collapsed": false,
     "input": [
      "def sigmoid(z):\n",
      "     #Apply sigmoid activation function to scalar, vector, or matrix\n",
      "    return 1/(1+np.exp(-z))"
     ],
     "language": "python",
     "metadata": {},
     "outputs": [],
     "prompt_number": 3
    },
    {
     "cell_type": "code",
     "collapsed": false,
     "input": [
      "def sigmoidPrime(z):\n",
      "    #Derivative of sigmoid function\n",
      "    return np.exp(-z)/((1+np.exp(-z))**2)"
     ],
     "language": "python",
     "metadata": {},
     "outputs": [],
     "prompt_number": 4
    },
    {
     "cell_type": "code",
     "collapsed": false,
     "input": [
      "testValues = np.arange(-5,5,0.01)\n",
      "plot(testValues, sigmoid(testValues), linewidth=2)\n",
      "plot(testValues, sigmoidPrime(testValues), linewidth=2)\n",
      "grid(1)\n",
      "legend(['sigmoid', 'sigmoidPrime'])"
     ],
     "language": "python",
     "metadata": {},
     "outputs": [
      {
       "metadata": {},
       "output_type": "pyout",
       "prompt_number": 5,
       "text": [
        "<matplotlib.legend.Legend at 0x103a5d750>"
       ]
      },
      {
       "metadata": {},
       "output_type": "display_data",
       "png": "[encoded data removed]",
       "text": [
        "<matplotlib.figure.Figure at 0x10361ff50>"
       ]
      }
     ],
     "prompt_number": 5
    },
    {
     "cell_type": "markdown",
     "metadata": {},
     "source": [
      "We can now replace dyHat/dz3 with f prime of z 3."
     ]
    },
    {
     "cell_type": "markdown",
     "metadata": {},
     "source": [
      "$$\n",
      "\\frac{\\partial z^{(3)}}{\\partial W^{(2)}}= \n",
      "-(y-\\hat{y}) f^\\prime(z^{(3)}) \\frac{\\partial z^{(3)}}{\\partial W^{(2)}}\n",
      "$$"
     ]
    },
    {
     "cell_type": "markdown",
     "metadata": {},
     "source": [
      "Our final piece of the puzzle is dz3dW2, this term represents the change of z, our third layer activity, with respect to the weights in the second layer."
     ]
    },
    {
     "cell_type": "markdown",
     "metadata": {},
     "source": [
      "Z three is the matrix product of our activities, a two, and our weights, w two. The activities from layer two are multiplied by their correspond weights and added together to yield z3. If we focus on a single synapse for a moment, we see a simple linear relationship between W and z, where a is the slope. So for each synapse, dz/dW(2) is just the activation, a on that synapse!"
     ]
    },
    {
     "cell_type": "markdown",
     "metadata": {},
     "source": [
      "$$\n",
      "z^{(3)} = a^{(2)}W^{(2)} \\tag{3}\\\\\n",
      "$$"
     ]
    },
    {
     "cell_type": "markdown",
     "metadata": {},
     "source": [
      "Another way to think about what the calculus is doing here is that it is \u201cbackpropagating\u201d the error to each weight, by multiplying by the activity on each synapses, the weights that contribute more to the error will have larger activations, and yield larger dJ/dW2 values, and those weights will be changed more when we perform gradient descent. "
     ]
    },
    {
     "cell_type": "markdown",
     "metadata": {},
     "source": [
      "We need to be careful with our dimensionality here, and if we\u2019re clever, we can take care of that summation we got rid of earlier. "
     ]
    },
    {
     "cell_type": "markdown",
     "metadata": {},
     "source": [
      "The first part of our equation, y minus yHat is of the same dimension as our output data, 3 by 1. "
     ]
    },
    {
     "cell_type": "markdown",
     "metadata": {},
     "source": [
      "F prime of z three is of the same size, 3 by 1, and our first operation is scalar multiplication. Our resulting 3 by 1 matrix is referred to as the backpropagating error, delta 3."
     ]
    },
    {
     "cell_type": "markdown",
     "metadata": {},
     "source": [
      "We determined that dz3/dW2 is equal to the activity of each synapse. Each value in delta 3 needs to be multiplied by each activity. We can achieve this by transposing a2 and matrix multiplying by delta3. "
     ]
    },
    {
     "cell_type": "markdown",
     "metadata": {},
     "source": [
      "$$\n",
      "\\frac{\\partial J}{\\partial W^{(2)}} = \n",
      "(a^{(2)})^T\\delta^{(3)}\\tag{6}\n",
      "$$"
     ]
    },
    {
     "cell_type": "markdown",
     "metadata": {},
     "source": [
      "$$\n",
      "\\delta^{(3)} = -(y-\\hat{y}) f^\\prime(z^{(3)}) \n",
      "$$"
     ]
    },
    {
     "cell_type": "markdown",
     "metadata": {},
     "source": [
      "What\u2019s cool here is that the matrix multiplication also takes care of our earlier omission \u2013 it adds up the dJ/dW terms across all our examples. "
     ]
    },
    {
     "cell_type": "markdown",
     "metadata": {},
     "source": [
      "Another way to think about what\u2019s happening here is that is that each example our algorithm sees has a certain cost and a certain gradient. The gradient with respect to each example pulls our gradient descent algorithm in a certain direction. It's like every example gets a vote on which way is downhill, and when we perform batch gradient descent we just add together everyone\u2019s vote, call it downhill, and move in that direction."
     ]
    },
    {
     "cell_type": "markdown",
     "metadata": {},
     "source": [
      "We\u2019ll code up our gradients in python in a new method, cost function prime. Numpy\u2019s multiply method performs element-wise multiplication, and the dot method performs matrix multiplication."
     ]
    },
    {
     "cell_type": "code",
     "collapsed": false,
     "input": [
      "# Part of NN Class (won't work alone, needs to be included in class as \n",
      "# shown in below and in partFour.py):\n",
      "\n",
      "def costFunctionPrime(self, X, y):\n",
      "    #Compute derivative with respect to W and W2 for a given X and y:\n",
      "    self.yHat = self.forward(X)\n",
      "\n",
      "    delta3 = np.multiply(-(y-self.yHat), self.sigmoidPrime(self.z3))\n",
      "    dJdW2 = np.dot(self.a2.T, delta3)"
     ],
     "language": "python",
     "metadata": {},
     "outputs": [],
     "prompt_number": 6
    },
    {
     "cell_type": "markdown",
     "metadata": {},
     "source": [
      "We have one final term to compute: dJ/dW1. The derivation begins the same way, computing the derivative through our final layer: first dJ/dyHat, then dyHat/dz3, and we called these two taken together form our backpropagating error, delta3. We now take the derivative \u201cacross\u201d our synapses, this is a little different from out job last time, computing the derivative with respect to the weights on our synapses. "
     ]
    },
    {
     "cell_type": "markdown",
     "metadata": {},
     "source": [
      "$$\n",
      "\\frac{\\partial J}{\\partial W^{(1)}} = (y-\\hat{y})\n",
      "\\frac{\\partial \\hat{y}}{\\partial W^{(1)}}\n",
      "$$\n",
      "\n",
      "$$\n",
      "\\frac{\\partial J}{\\partial W^{(1)}} = (y-\\hat{y})\n",
      "\\frac{\\partial \\hat{y}}{\\partial z^{(3)}}\n",
      "\\frac{\\partial z^{(3)}}{\\partial W^{(1)}}\n",
      "$$\n",
      "\n",
      "$$\n",
      "\\frac{\\partial J}{\\partial W^{(1)}} = -(y-\\hat{y}) f^\\prime(z^{(3)}) \\frac{\\partial z^{(3)}}{\\partial W^{(1)}}\n",
      "$$\n",
      "\n",
      "$$\n",
      "\\frac{\\partial z^{(3)}}{\\partial W^{(1)}} = \\frac{\\partial z^{(3)}}{\\partial a^{(2)}}\\frac{\\partial a^{(2)}}{\\partial W^{(1)}}\n",
      "$$\n"
     ]
    },
    {
     "cell_type": "markdown",
     "metadata": {},
     "source": [
      "There\u2019s still a nice linear relationship along each synapse, but now we\u2019re interested in the rate of change of z(3) with respect to a(2). Now the slope is just equal to the weight value for that synapse. We can achieve this mathematically by multiplying by W(2) transpose. "
     ]
    },
    {
     "cell_type": "markdown",
     "metadata": {},
     "source": [
      "$$\n",
      "\\frac{\\partial J}{\\partial W^{(1)}} = \\delta^{(3)} \n",
      "(W^{(2)})^{T}\n",
      "\\frac{\\partial a^{(2)}}{\\partial W^{(1)}}\n",
      "$$"
     ]
    },
    {
     "cell_type": "markdown",
     "metadata": {},
     "source": [
      "$$\n",
      "\\frac{\\partial J}{\\partial W^{(1)}} = \\delta^{(3)} \n",
      "(W^{(2)})^{T}\n",
      "\\frac{\\partial a^{(2)}}{\\partial z^{(2)}}\n",
      "\\frac{\\partial z^{(2)}}{\\partial W^{(1)}}\n",
      "$$"
     ]
    },
    {
     "cell_type": "markdown",
     "metadata": {},
     "source": [
      "Our next term to work on is da(2)/dz(2) \u2013 this step is just like the derivative across our layer 3 neurons, so we can just multiply by f prime(z2). "
     ]
    },
    {
     "cell_type": "markdown",
     "metadata": {},
     "source": [
      "$$\n",
      "\\frac{\\partial J}{\\partial W^{(1)}} = \\delta^{(3)} \n",
      "(W^{(2)})^{T}\n",
      "f^\\prime(z^{(2)})\n",
      "\\frac{\\partial z^{(2)}}{\\partial W^{(1)}}\n",
      "$$"
     ]
    },
    {
     "cell_type": "markdown",
     "metadata": {},
     "source": [
      "Our final computation here is dz2/dW1. This is very similar to our dz3/dW2 computation, there is a simple linear relationship on the synapses between z2 and w1, in this case though, the slope is the input value, X. We can use the same technique as last time by multiplying by X transpose, effectively applying the derivative and adding our dJ/dW1\u2019s together across all our examples. "
     ]
    },
    {
     "cell_type": "markdown",
     "metadata": {},
     "source": [
      "$$\n",
      "\\frac{\\partial J}{\\partial W^{(1)}} = \n",
      "X^{T}\n",
      "\\delta^{(3)} \n",
      "(W^{(2)})^{T}\n",
      "f^\\prime(z^{(2)})\n",
      "$$"
     ]
    },
    {
     "cell_type": "markdown",
     "metadata": {},
     "source": [
      "Or:"
     ]
    },
    {
     "cell_type": "markdown",
     "metadata": {},
     "source": [
      "$$\n",
      "\\frac{\\partial J}{\\partial W^{(1)}} = \n",
      "X^{T}\\delta^{(2)} \\tag{7}\n",
      "$$"
     ]
    },
    {
     "cell_type": "markdown",
     "metadata": {},
     "source": [
      "Where:"
     ]
    },
    {
     "cell_type": "markdown",
     "metadata": {},
     "source": [
      "$$\n",
      "\\delta^{(2)} = \\delta^{(3)} \n",
      "(W^{(2)})^{T}\n",
      "f^\\prime(z^{(2)})\n",
      "$$"
     ]
    },
    {
     "cell_type": "markdown",
     "metadata": {},
     "source": [
      "All that\u2019s left is to code this equation up in python. What\u2019s cool here is that if we want to make a deeper neural network, we could just stack a bunch of these operations together. "
     ]
    },
    {
     "cell_type": "code",
     "collapsed": false,
     "input": [
      "# Whole Class with additions:\n",
      "class Neural_Network(object):\n",
      "    def __init__(self):        \n",
      "        #Define Hyperparameters\n",
      "        self.inputLayerSize = 2\n",
      "        self.outputLayerSize = 1\n",
      "        self.hiddenLayerSize = 3\n",
      "        \n",
      "        #Weights (parameters)\n",
      "        self.W1 = np.random.randn(self.inputLayerSize,self.hiddenLayerSize)\n",
      "        self.W2 = np.random.randn(self.hiddenLayerSize,self.outputLayerSize)\n",
      "        \n",
      "    def forward(self, X):\n",
      "        #Propogate inputs though network\n",
      "        self.z2 = np.dot(X, self.W1)\n",
      "        self.a2 = self.sigmoid(self.z2)\n",
      "        self.z3 = np.dot(self.a2, self.W2)\n",
      "        yHat = self.sigmoid(self.z3) \n",
      "        return yHat\n",
      "        \n",
      "    def sigmoid(self, z):\n",
      "        #Apply sigmoid activation function to scalar, vector, or matrix\n",
      "        return 1/(1+np.exp(-z))\n",
      "    \n",
      "    def sigmoidPrime(self,z):\n",
      "        #Gradient of sigmoid\n",
      "        return np.exp(-z)/((1+np.exp(-z))**2)\n",
      "    \n",
      "    def costFunction(self, X, y):\n",
      "        #Compute cost for given X,y, use weights already stored in class.\n",
      "        self.yHat = self.forward(X)\n",
      "        J = 0.5*sum((y-self.yHat)**2)\n",
      "        return J\n",
      "        \n",
      "    def costFunctionPrime(self, X, y):\n",
      "        #Compute derivative with respect to W and W2 for a given X and y:\n",
      "        self.yHat = self.forward(X)\n",
      "        \n",
      "        delta3 = np.multiply(-(y-self.yHat), self.sigmoidPrime(self.z3))\n",
      "        dJdW2 = np.dot(self.a2.T, delta3)\n",
      "        \n",
      "        delta2 = np.dot(delta3, self.W2.T)*self.sigmoidPrime(self.z2)\n",
      "        dJdW1 = np.dot(X.T, delta2)  \n",
      "        \n",
      "        return dJdW1, dJdW2"
     ],
     "language": "python",
     "metadata": {},
     "outputs": [],
     "prompt_number": 7
    },
    {
     "cell_type": "markdown",
     "metadata": {},
     "source": [
      "So how should we change our W\u2019s to decrease our cost? We can now compute dJ/dW, which tells us which way is uphill in our 9 dimensional optimization space. "
     ]
    },
    {
     "cell_type": "code",
     "collapsed": false,
     "input": [
      "NN = Neural_Network()"
     ],
     "language": "python",
     "metadata": {},
     "outputs": [],
     "prompt_number": 8
    },
    {
     "cell_type": "code",
     "collapsed": false,
     "input": [
      "cost1 = NN.costFunction(X,y)"
     ],
     "language": "python",
     "metadata": {},
     "outputs": [],
     "prompt_number": 9
    },
    {
     "cell_type": "code",
     "collapsed": false,
     "input": [
      "dJdW1, dJdW2 = NN.costFunctionPrime(X,y)"
     ],
     "language": "python",
     "metadata": {},
     "outputs": [],
     "prompt_number": 10
    },
    {
     "cell_type": "code",
     "collapsed": false,
     "input": [
      "dJdW1"
     ],
     "language": "python",
     "metadata": {},
     "outputs": [
      {
       "metadata": {},
       "output_type": "pyout",
       "prompt_number": 11,
       "text": [
        "array([[-0.01903335, -0.00038896,  0.00070959],\n",
        "       [-0.00599893, -0.00011172,  0.00020665]])"
       ]
      }
     ],
     "prompt_number": 11
    },
    {
     "cell_type": "code",
     "collapsed": false,
     "input": [
      "dJdW2"
     ],
     "language": "python",
     "metadata": {},
     "outputs": [
      {
       "metadata": {},
       "output_type": "pyout",
       "prompt_number": 12,
       "text": [
        "array([[-0.02058574],\n",
        "       [-0.03256431],\n",
        "       [-0.02887828]])"
       ]
      }
     ],
     "prompt_number": 12
    },
    {
     "cell_type": "markdown",
     "metadata": {},
     "source": [
      "If we move this way by adding a scalar times our derivative to our weights, our cost will increase, and if we do the opposite, subtract our gradient from our weights, we will move downhill and reduce our cost. This simple step downhill is the core of gradient descent and a key part of how even very sophisticated learning algorithms are trained. "
     ]
    },
    {
     "cell_type": "code",
     "collapsed": false,
     "input": [
      "scalar = 3\n",
      "NN.W1 = NN.W1 + scalar*dJdW1\n",
      "NN.W2 = NN.W2 + scalar*dJdW2\n",
      "cost2 = NN.costFunction(X,y)"
     ],
     "language": "python",
     "metadata": {},
     "outputs": [],
     "prompt_number": 13
    },
    {
     "cell_type": "code",
     "collapsed": false,
     "input": [
      "print cost1, cost2"
     ],
     "language": "python",
     "metadata": {},
     "outputs": [
      {
       "output_type": "stream",
       "stream": "stdout",
       "text": [
        "0.0162383786895 0.0267234778209\n"
       ]
      }
     ],
     "prompt_number": 14
    },
    {
     "cell_type": "code",
     "collapsed": false,
     "input": [
      "dJdW1, dJdW2 = NN.costFunctionPrime(X,y)\n",
      "NN.W1 = NN.W1 - scalar*dJdW1\n",
      "NN.W2 = NN.W2 - scalar*dJdW2\n",
      "cost3 = NN.costFunction(X, y)"
     ],
     "language": "python",
     "metadata": {},
     "outputs": [],
     "prompt_number": 15
    },
    {
     "cell_type": "code",
     "collapsed": false,
     "input": [
      "print cost2, cost3"
     ],
     "language": "python",
     "metadata": {},
     "outputs": [
      {
       "output_type": "stream",
       "stream": "stdout",
       "text": [
        "0.0267234778209 0.0121728919672\n"
       ]
      }
     ],
     "prompt_number": 16
    },
    {
     "cell_type": "markdown",
     "metadata": {},
     "source": [
      "Next time we\u2019ll perform numerical gradient checking check to make sure our math is correct. "
     ]
    }
   ],
   "metadata": {}
  }
 ]
}